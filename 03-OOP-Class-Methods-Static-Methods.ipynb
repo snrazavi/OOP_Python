{
 "cells": [
  {
   "cell_type": "markdown",
   "source": [
    "<div class=\"alert alert-info\">\n",
    "    <h1 align=\"center\">Class Methods and Static Methods</h1>\n",
    "    <h3 align=\"center\"> Object-Oriented Programming in Python</h3>\n",
    "    <h5 align=\"center\">Seyed Naser Razavi (http://www.snrazavi.ir/)</h5>\n",
    "</div>"
   ],
   "metadata": {}
  },
  {
   "cell_type": "markdown",
   "source": [
    "## Where are we now?\n",
    "So far, we have learned how to:\n",
    "- Define a class, create objects, and use objects\n",
    "- Use instance variables and class variables to store data\n",
    "- Use instance methods to add behavior to the class\n",
    "\n",
    "\n",
    "```python\n",
    "class Employee:\n",
    "    \n",
    "    hourly_wage = 20\n",
    "    count = 0\n",
    "\n",
    "    def __init__(self, name, surname):\n",
    "        self.name = name\n",
    "        self.surname = surname\n",
    "        self.email = f\"{self.name}.{self.surname}@email.com\"\n",
    "        self.hours = 0\n",
    "        \n",
    "        Employee.count += 1                \n",
    "        self.id = f\"{Employee.count:05d}\"\n",
    "\n",
    "    def fullname(self):\n",
    "        return f\"{self.name} {self.surname}\"\n",
    "\n",
    "    def add_daily_hours(self, daily_hours):\n",
    "        self.hours += daily_hours\n",
    "\n",
    "    def salary(self):\n",
    "        return self.hours * self.hourly_wage\n",
    "```"
   ],
   "metadata": {}
  },
  {
   "cell_type": "markdown",
   "source": [
    "## Today\n",
    "- We will learn the difference between\n",
    "  - instance methods\n",
    "  - class methods\n",
    "  - static methods\n",
    "- and how to use them properly"
   ],
   "metadata": {}
  },
  {
   "cell_type": "markdown",
   "source": [
    "### Instance methods\n",
    "- Instance methods automatically take the **instance** as the first argument (`self` argument).\n",
    "\n",
    "### Class methods\n",
    "- Class methods automatically take the **class** as the first argument (`cls` argument).\n",
    "- You have to use the decorator `@classmethod` on top a method to tell the Python that this method is a class method.\n",
    "  - A decorator changes the behavior of a function.\n",
    "- Let's add a class method called `set_hourly_wage()` to our `Employee` class."
   ],
   "metadata": {}
  },
  {
   "cell_type": "code",
   "execution_count": 1,
   "source": [
    "class Employee:\n",
    "    \n",
    "    hourly_wage = 20\n",
    "    count = 0\n",
    "\n",
    "    def __init__(self, name, surname):\n",
    "        self.name = name\n",
    "        self.surname = surname\n",
    "        self.email = f\"{self.name}.{self.surname}@email.com\"\n",
    "        self.hours = 0\n",
    "        \n",
    "        Employee.count += 1                \n",
    "        self.id = f\"{Employee.count:05d}\"\n",
    "\n",
    "    def fullname(self):\n",
    "        return f\"{self.name} {self.surname}\"\n",
    "\n",
    "    def add_daily_hours(self, daily_hours):\n",
    "        self.hours += daily_hours\n",
    "\n",
    "    def salary(self):\n",
    "        return self.hours * self.hourly_wage\n",
    "\n",
    "    @classmethod\n",
    "    def set_hourly_wage(cls, hourly_wage):\n",
    "        cls.hourly_wage = hourly_wage"
   ],
   "outputs": [],
   "metadata": {}
  },
  {
   "cell_type": "markdown",
   "source": [
    "```python\n",
    "    @classmethod\n",
    "    def set_hourly_wage(cls, hourly_wage):\n",
    "        cls.hourly_wage = hourly_wage\n",
    "```\n",
    "\n",
    "- By convetion, we use the `cls` as the first argument of a class method. \n",
    "- Notice that the word `class` is a reserved word in Python and we can't use it here as an argument."
   ],
   "metadata": {}
  },
  {
   "cell_type": "code",
   "execution_count": 2,
   "source": [
    "# create objects\n",
    "employee1 = Employee(\"John\", \"Smith\")\n",
    "employee2 = Employee(\"David\", \"Johnson\")\n",
    "\n",
    "# use objects\n",
    "print(\"Before changing hourly_wage:\")\n",
    "print(employee1.hourly_wage)\n",
    "print(employee2.hourly_wage)\n",
    "\n",
    "# call class method to change hourly_wage\n",
    "Employee.set_hourly_wage(25)\n",
    "\n",
    "# use objects\n",
    "print(\"After changing hourly_wage:\")\n",
    "print(employee1.hourly_wage)\n",
    "print(employee2.hourly_wage)"
   ],
   "outputs": [
    {
     "output_type": "stream",
     "name": "stdout",
     "text": [
      "Before changing hourly_wage:\n",
      "20\n",
      "20\n",
      "After changing hourly_wage:\n",
      "25\n",
      "25\n"
     ]
    }
   ],
   "metadata": {}
  },
  {
   "cell_type": "markdown",
   "source": [
    "## Using class methods as an alternative to constructors\n",
    "- A very commmon use case of class methods is to use them to create instances.\n",
    "- For example, we can pass a string like \"Joe-Peterson\" to create a new `Employee` object.\n",
    "- Let's see how"
   ],
   "metadata": {}
  },
  {
   "cell_type": "code",
   "execution_count": 3,
   "source": [
    "class Employee:\n",
    "    \n",
    "    hourly_wage = 20\n",
    "    count = 0\n",
    "\n",
    "    def __init__(self, name, surname):\n",
    "        self.name = name\n",
    "        self.surname = surname\n",
    "        self.email = f\"{self.name}.{self.surname}@email.com\"\n",
    "        self.hours = 0\n",
    "        \n",
    "        Employee.count += 1                \n",
    "        self.id = f\"{Employee.count:05d}\"\n",
    "\n",
    "    def fullname(self):\n",
    "        return f\"{self.name} {self.surname}\"\n",
    "\n",
    "    def add_daily_hours(self, daily_hours):\n",
    "        self.hours += daily_hours\n",
    "\n",
    "    def salary(self):\n",
    "        return self.hours * self.hourly_wage\n",
    "\n",
    "    @classmethod\n",
    "    def set_hourly_wage(cls, hourly_wage):\n",
    "        cls.hourly_wage = hourly_wage\n",
    "\n",
    "    @classmethod\n",
    "    def from_string(cls, name_str):\n",
    "        first_name, last_name = name_str.split('-')\n",
    "        return cls(first_name, last_name)"
   ],
   "outputs": [],
   "metadata": {}
  },
  {
   "cell_type": "code",
   "execution_count": 4,
   "source": [
    "# create object using the class method\n",
    "employee1 = Employee.from_string(\"John-Smith\")\n",
    "employee2 = Employee.from_string(\"David-Johnson\")\n",
    "\n",
    "# use the objects\n",
    "print(\"First employee:\")\n",
    "print(employee1.name)\n",
    "print(employee1.surname)\n",
    "print(employee1.email)\n",
    "\n",
    "print(\"\\nSecond employee:\")\n",
    "print(employee2.name)\n",
    "print(employee2.surname)\n",
    "print(employee2.email)\n"
   ],
   "outputs": [
    {
     "output_type": "stream",
     "name": "stdout",
     "text": [
      "First employee:\n",
      "John\n",
      "Smith\n",
      "John.Smith@email.com\n",
      "\n",
      "Second employee:\n",
      "David\n",
      "Johnson\n",
      "David.Johnson@email.com\n"
     ]
    }
   ],
   "metadata": {}
  },
  {
   "cell_type": "markdown",
   "source": [
    "## Another example from Python `datetime`\n",
    "\n",
    "```python\n",
    "    # Additional constructors\n",
    "\n",
    "    @classmethod\n",
    "    def fromtimestamp(cls, t):\n",
    "        \"Construct a date from a POSIX timestamp (like time.time()).\"\n",
    "        y, m, d, hh, mm, ss, weekday, jday, dst = _time.localtime(t)\n",
    "        return cls(y, m, d)\n",
    "\n",
    "    @classmethod\n",
    "    def today(cls):\n",
    "        \"Construct a date from time.time().\"\n",
    "        t = _time.time()\n",
    "        return cls.fromtimestamp(t)\n",
    "\n",
    "    @classmethod\n",
    "    def fromordinal(cls, n):\n",
    "        \"\"\"Construct a date from a proleptic Gregorian ordinal.\n",
    "        January 1 of year 1 is day 1.  Only the year, month and day are\n",
    "        non-zero in the result.\n",
    "        \"\"\"\n",
    "        y, m, d = _ord2ymd(n)\n",
    "        return cls(y, m, d)\n",
    "```"
   ],
   "metadata": {}
  },
  {
   "cell_type": "code",
   "execution_count": 5,
   "source": [
    "import datetime\n",
    "\n",
    "# normal way to create an instance by pasing y, m, d\n",
    "date = datetime.date(2021, 10, 25)\n",
    "print(date)\n",
    "\n",
    "# using a class method to create a date object\n",
    "date = datetime.date.fromordinal(1)\n",
    "print(date)"
   ],
   "outputs": [
    {
     "output_type": "stream",
     "name": "stdout",
     "text": [
      "2021-10-25\n",
      "0001-01-01\n"
     ]
    }
   ],
   "metadata": {}
  },
  {
   "cell_type": "markdown",
   "source": [
    "## Instance methods and class methods\n",
    "- Instance methods automatically pass `self` as the first argument.\n",
    "- Class methods automatically pass `cls` as the first argument.\n",
    "\n",
    "## Static methods\n",
    "- Static methods don't pass anything automatically.\n",
    "- They behave just like a regular function,\n",
    "- but as they have some logical connection with the class, we prefer to include them in the class."
   ],
   "metadata": {}
  },
  {
   "cell_type": "markdown",
   "source": [
    "### example\n",
    "- As an example, suppose we need a function that takes a date object and returns wether or not that is a work day.\n",
    "- To tell Python that the method is a static method, you have to use the `@staticmethod` decorator.\n",
    "\n",
    "```python\n",
    "@staticmethod\n",
    "def is_workday(day):\n",
    "    return day.weekday() != 5 and day.weekday() != 6\n",
    "```\n",
    "\n",
    "Please notice that in this method, we did not access to any instance or class variables and methods."
   ],
   "metadata": {}
  },
  {
   "cell_type": "code",
   "execution_count": 6,
   "source": [
    "class Employee:\n",
    "    \n",
    "    hourly_wage = 20\n",
    "    count = 0\n",
    "\n",
    "    def __init__(self, name, surname):\n",
    "        self.name = name\n",
    "        self.surname = surname\n",
    "        self.email = f\"{self.name}.{self.surname}@email.com\"\n",
    "        self.hours = 0\n",
    "        \n",
    "        Employee.count += 1                \n",
    "        self.id = f\"{Employee.count:05d}\"\n",
    "\n",
    "    def fullname(self):\n",
    "        return f\"{self.name} {self.surname}\"\n",
    "\n",
    "    def add_daily_hours(self, daily_hours):\n",
    "        self.hours += daily_hours\n",
    "\n",
    "    def salary(self):\n",
    "        return self.hours * self.hourly_wage\n",
    "\n",
    "    @classmethod\n",
    "    def set_hourly_wage(cls, hourly_wage):\n",
    "        cls.hourly_wage = hourly_wage\n",
    "\n",
    "    @classmethod\n",
    "    def from_string(cls, name_str):\n",
    "        first_name, last_name = name_str.split('-')\n",
    "        return cls(first_name, last_name)\n",
    "\n",
    "    @staticmethod\n",
    "    def is_workday(day):\n",
    "        return day.weekday() != 5 and day.weekday() != 6"
   ],
   "outputs": [],
   "metadata": {}
  },
  {
   "cell_type": "code",
   "execution_count": 7,
   "source": [
    "day1 = datetime.date(2021, 10, 24)  # Sunday (6)\n",
    "day2 = datetime.date(2021, 10, 25)  # Monday (0)\n",
    "\n",
    "print(Employee.is_workday(day1))\n",
    "print(Employee.is_workday(day2))"
   ],
   "outputs": [
    {
     "output_type": "stream",
     "name": "stdout",
     "text": [
      "False\n",
      "True\n"
     ]
    }
   ],
   "metadata": {}
  },
  {
   "cell_type": "markdown",
   "source": [
    "## Summary\n",
    "- We learned about class methods and static methods and the difference between them.\n",
    "- Also we learned how to use class methods as an alternative way to create new instances of a class."
   ],
   "metadata": {}
  },
  {
   "cell_type": "markdown",
   "source": [
    "## Next\n",
    "- We will learn about **inheritance**, and \n",
    "- Creating **subclasses** from a class"
   ],
   "metadata": {}
  }
 ],
 "metadata": {
  "orig_nbformat": 4,
  "language_info": {
   "name": "python",
   "version": "3.9.7",
   "mimetype": "text/x-python",
   "codemirror_mode": {
    "name": "ipython",
    "version": 3
   },
   "pygments_lexer": "ipython3",
   "nbconvert_exporter": "python",
   "file_extension": ".py"
  },
  "kernelspec": {
   "name": "python3",
   "display_name": "Python 3.9.7 64-bit"
  },
  "interpreter": {
   "hash": "aee8b7b246df8f9039afb4144a1f6fd8d2ca17a180786b69acc140d282b71a49"
  }
 },
 "nbformat": 4,
 "nbformat_minor": 2
}