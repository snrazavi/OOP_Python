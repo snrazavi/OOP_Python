{
 "cells": [
  {
   "cell_type": "markdown",
   "source": [
    "<div class=\"alert alert-info\">\n",
    "    <h1 align=\"center\">Inhertiance and Subclasses</h1>\n",
    "    <h3 align=\"center\"> Object-Oriented Programming in Python</h3>\n",
    "    <h5 align=\"center\">Seyed Naser Razavi (http://www.snrazavi.ir/)</h5>\n",
    "</div>"
   ],
   "metadata": {}
  },
  {
   "cell_type": "markdown",
   "source": [
    "## where are we now?\n",
    "So far, we have learned how to:\n",
    "- Define a class, create objects, and use objects\n",
    "- Use instance variables and class variables to store data\n",
    "- Use instance methods to add behavior to the class\n",
    "- Define class methods and use them to create new instances.\n",
    "- Define and use static methods\n",
    "  \n",
    "```python\n",
    "class Employee:\n",
    "    \n",
    "    hourly_wage = 20\n",
    "    count = 0\n",
    "\n",
    "    def __init__(self, name, surname):\n",
    "        self.name = name\n",
    "        self.surname = surname\n",
    "        self.email = f\"{self.name}.{self.surname}@email.com\"\n",
    "        self.hours = 0\n",
    "        \n",
    "        Employee.count += 1                \n",
    "        self.id = f\"{Employee.count:05d}\"\n",
    "\n",
    "    def fullname(self):\n",
    "        return f\"{self.name} {self.surname}\"\n",
    "\n",
    "    def add_daily_hours(self, daily_hours):\n",
    "        self.hours += daily_hours\n",
    "\n",
    "    def salary(self):\n",
    "        return self.hours * self.hourly_wage\n",
    "\n",
    "    @classmethod\n",
    "    def set_hourly_wage(cls, hourly_wage):\n",
    "        cls.hourly_wage = hourly_wage\n",
    "\n",
    "    @classmethod\n",
    "    def from_string(cls, name_str):\n",
    "        first_name, last_name = name_str.split('-')\n",
    "        return cls(first_name, last_name)\n",
    "\n",
    "    @staticmethod\n",
    "    def is_workday(day):\n",
    "        return day.weekday() != 5 and day.weekday() != 6\n",
    "```"
   ],
   "metadata": {}
  },
  {
   "cell_type": "markdown",
   "source": [
    "## Inheritance\n",
    "- Allows us to inherit attributes and methods from the parent class.\n",
    "- Then we can add new functionalities or override some of the existing functionalities.\n",
    "- Today, we will create two subclasses called Developer and Manager and add new functionalites to them."
   ],
   "metadata": {}
  },
  {
   "cell_type": "code",
   "execution_count": 1,
   "source": [
    "class Employee:\n",
    "    \n",
    "    hourly_wage = 20\n",
    "    count = 0\n",
    "\n",
    "    def __init__(self, name, surname):\n",
    "        self.name = name\n",
    "        self.surname = surname\n",
    "        self.email = f\"{self.name}.{self.surname}@email.com\"\n",
    "        self.hours = 0\n",
    "        \n",
    "        Employee.count += 1                \n",
    "        self.id = f\"{Employee.count:05d}\"\n",
    "\n",
    "    def fullname(self):\n",
    "        return f\"{self.name} {self.surname}\"\n",
    "\n",
    "    def add_daily_hours(self, daily_hours):\n",
    "        self.hours += daily_hours\n",
    "\n",
    "    def salary(self):\n",
    "        return self.hours * self.hourly_wage\n",
    "\n",
    "    @classmethod\n",
    "    def set_hourly_wage(cls, hourly_wage):\n",
    "        cls.hourly_wage = hourly_wage\n",
    "\n",
    "    @classmethod\n",
    "    def from_string(cls, name_str):\n",
    "        first_name, last_name = name_str.split('-')\n",
    "        return cls(first_name, last_name)\n",
    "\n",
    "    @staticmethod\n",
    "    def is_workday(day):\n",
    "        return day.weekday() != 5 and day.weekday() != 6"
   ],
   "outputs": [],
   "metadata": {}
  },
  {
   "cell_type": "markdown",
   "source": [
    "## `Developer` class"
   ],
   "metadata": {}
  },
  {
   "cell_type": "code",
   "execution_count": 3,
   "source": [
    "class Developer(Employee):\n",
    "    pass"
   ],
   "outputs": [],
   "metadata": {}
  },
  {
   "cell_type": "code",
   "execution_count": 5,
   "source": [
    "developer1 = Developer(\"Ali\", \"Ahmadi\")\n",
    "\n",
    "developer1.__dict__"
   ],
   "outputs": [
    {
     "output_type": "execute_result",
     "data": {
      "text/plain": [
       "{'name': 'Ali',\n",
       " 'surname': 'Ahmadi',\n",
       " 'email': 'Ali.Ahmadi@email.com',\n",
       " 'hours': 0,\n",
       " 'id': '00002'}"
      ]
     },
     "metadata": {},
     "execution_count": 5
    }
   ],
   "metadata": {}
  },
  {
   "cell_type": "code",
   "execution_count": 7,
   "source": [
    "# method resolution order\n",
    "help(Developer)"
   ],
   "outputs": [
    {
     "output_type": "stream",
     "name": "stdout",
     "text": [
      "Help on class Developer in module __main__:\n",
      "\n",
      "class Developer(Employee)\n",
      " |  Developer(name, surname)\n",
      " |  \n",
      " |  Method resolution order:\n",
      " |      Developer\n",
      " |      Employee\n",
      " |      builtins.object\n",
      " |  \n",
      " |  Methods inherited from Employee:\n",
      " |  \n",
      " |  __init__(self, name, surname)\n",
      " |      Initialize self.  See help(type(self)) for accurate signature.\n",
      " |  \n",
      " |  add_daily_hours(self, daily_hours)\n",
      " |  \n",
      " |  fullname(self)\n",
      " |  \n",
      " |  salary(self)\n",
      " |  \n",
      " |  ----------------------------------------------------------------------\n",
      " |  Class methods inherited from Employee:\n",
      " |  \n",
      " |  from_string(name_str) from builtins.type\n",
      " |  \n",
      " |  set_hourly_wage(hourly_wage) from builtins.type\n",
      " |  \n",
      " |  ----------------------------------------------------------------------\n",
      " |  Static methods inherited from Employee:\n",
      " |  \n",
      " |  is_workday(day)\n",
      " |  \n",
      " |  ----------------------------------------------------------------------\n",
      " |  Data descriptors inherited from Employee:\n",
      " |  \n",
      " |  __dict__\n",
      " |      dictionary for instance variables (if defined)\n",
      " |  \n",
      " |  __weakref__\n",
      " |      list of weak references to the object (if defined)\n",
      " |  \n",
      " |  ----------------------------------------------------------------------\n",
      " |  Data and other attributes inherited from Employee:\n",
      " |  \n",
      " |  count = 2\n",
      " |  \n",
      " |  hourly_wage = 20\n",
      "\n"
     ]
    }
   ],
   "metadata": {}
  },
  {
   "cell_type": "markdown",
   "source": [
    "### Customizing the sublass"
   ],
   "metadata": {}
  },
  {
   "cell_type": "code",
   "execution_count": 8,
   "source": [
    "class Developer(Employee):\n",
    "    hourly_wage = 30"
   ],
   "outputs": [],
   "metadata": {}
  },
  {
   "cell_type": "code",
   "execution_count": 9,
   "source": [
    "developer1 = Developer(\"John\", \"Smith\")\n",
    "developer1.add_daily_hours(8)\n",
    "developer1.salary()"
   ],
   "outputs": [
    {
     "output_type": "execute_result",
     "data": {
      "text/plain": [
       "240"
      ]
     },
     "metadata": {},
     "execution_count": 9
    }
   ],
   "metadata": {}
  },
  {
   "cell_type": "markdown",
   "source": [
    "### Adding attributes to the subclass"
   ],
   "metadata": {}
  },
  {
   "cell_type": "code",
   "execution_count": 21,
   "source": [
    "class Developer(Employee):\n",
    "    hourly_wage = 30\n",
    "\n",
    "    def __init__(self, name, surname, programming_language):\n",
    "        super().__init__(name, surname)  # using super class constructor\n",
    "        self.programming_languages = programming_language"
   ],
   "outputs": [],
   "metadata": {}
  },
  {
   "cell_type": "code",
   "execution_count": 20,
   "source": [
    "# create objects\n",
    "developer1 = Developer(\"John\", \"Smith\", \"Python\")\n",
    "developer2 = Developer(\"David\", \"Jhonson\", \"Java\")\n",
    "\n",
    "# use objects\n",
    "print(developer1.email)\n",
    "print(developer2.email)\n"
   ],
   "outputs": [
    {
     "output_type": "stream",
     "name": "stdout",
     "text": [
      "{'name': 'John', 'surname': 'Smith', 'email': 'John.Smith@email.com', 'hours': 0, 'id': '00014'}\n",
      "{'name': 'David', 'surname': 'Jhonson', 'email': 'David.Jhonson@email.com', 'hours': 0, 'id': '00015'}\n",
      "John.Smith@email.com\n",
      "David.Jhonson@email.com\n"
     ]
    }
   ],
   "metadata": {}
  },
  {
   "cell_type": "markdown",
   "source": [
    "## `Manager` class"
   ],
   "metadata": {}
  },
  {
   "cell_type": "code",
   "execution_count": 22,
   "source": [
    "class Manager(Employee):\n",
    "    hourly_wage = 50\n",
    "\n",
    "    def __init__(self, name, surname, employees=None):\n",
    "        super().__init__(name, surname)\n",
    "\n",
    "        self.employees = [] if employees is None else employees"
   ],
   "outputs": [],
   "metadata": {}
  },
  {
   "cell_type": "markdown",
   "source": [
    "### Good practice\n",
    "- Don't use mutable objects like `list` and `dict` as default values.\n",
    "- That's why here we have used `None` instead of an empty list (`[]`)."
   ],
   "metadata": {}
  },
  {
   "cell_type": "code",
   "execution_count": 28,
   "source": [
    "class Manager(Employee):\n",
    "    hourly_wage = 50\n",
    "\n",
    "    def __init__(self, name, surname, employees=None):\n",
    "        super().__init__(name, surname)\n",
    "\n",
    "        self.employees = [] if employees is None else employees\n",
    "\n",
    "    def add_employee(self, employee):\n",
    "        if employee not in self.employees:\n",
    "            self.employees.append(employee)\n",
    "\n",
    "    def remove_employee(self, employee):\n",
    "        if employee in self.employees:\n",
    "            self.employees.remove(employee)\n",
    "\n",
    "    def print_employees(self):\n",
    "        print(f\"{self.fullname()} manages ({', '.join([e.fullname() for e in self.employees])})\")\n"
   ],
   "outputs": [],
   "metadata": {}
  },
  {
   "cell_type": "code",
   "execution_count": 31,
   "source": [
    "# create object\n",
    "manager1 = Manager(\"Mat\", \"Anderson\", [developer1])\n",
    "\n",
    "# use object\n",
    "manager1.add_employee(developer2)\n",
    "\n",
    "print(manager1.email)\n",
    "manager1.print_employees()"
   ],
   "outputs": [
    {
     "output_type": "stream",
     "name": "stdout",
     "text": [
      "Mat.Anderson@email.com\n",
      "Mat Anderson manages (John Smith, David Jhonson)\n"
     ]
    }
   ],
   "metadata": {}
  },
  {
   "cell_type": "code",
   "execution_count": 32,
   "source": [
    "manager1.remove_employee(developer1)\n",
    "manager1.print_employees()"
   ],
   "outputs": [
    {
     "output_type": "stream",
     "name": "stdout",
     "text": [
      "Mat Anderson manages (David Jhonson)\n"
     ]
    }
   ],
   "metadata": {}
  },
  {
   "cell_type": "markdown",
   "source": [
    "## `isinstance()` and `issubclass()`\n",
    "- `isinstance()` will tell us wether or not an object is instance of a class.\n",
    "- `issubclass()` will tell us wether or not an object is subclass of another class."
   ],
   "metadata": {}
  },
  {
   "cell_type": "code",
   "execution_count": 34,
   "source": [
    "print(isinstance(manager1, Manager))\n",
    "print(isinstance(manager1, Employee))\n",
    "print(isinstance(manager1, Developer))"
   ],
   "outputs": [
    {
     "output_type": "stream",
     "name": "stdout",
     "text": [
      "True\n",
      "True\n",
      "False\n"
     ]
    }
   ],
   "metadata": {}
  },
  {
   "cell_type": "code",
   "execution_count": 37,
   "source": [
    "print(issubclass(Manager, Employee))\n",
    "print(issubclass(Developer, Employee))"
   ],
   "outputs": [
    {
     "output_type": "stream",
     "name": "stdout",
     "text": [
      "True\n",
      "True\n"
     ]
    }
   ],
   "metadata": {}
  },
  {
   "cell_type": "code",
   "execution_count": 42,
   "source": [
    "class Manager(Employee):\n",
    "    hourly_wage = 50\n",
    "\n",
    "    def __init__(self, name, surname, employees=None):\n",
    "        super().__init__(name, surname)\n",
    "\n",
    "        if employees is None:\n",
    "            self.employees = [] \n",
    "        else:\n",
    "            if isinstance(employees, list):\n",
    "                self.employees = employees\n",
    "            elif isinstance(employees, Employee):\n",
    "                self.employees = [employees]\n",
    "            else:\n",
    "                self.employees = []\n",
    "                print(\"Error! You can only use Employee objects!\")\n",
    "\n",
    "    def add_employee(self, employee):\n",
    "        if employee not in self.employees:\n",
    "            self.employees.append(employee)\n",
    "\n",
    "    def remove_employee(self, employee):\n",
    "        if employee in self.employees:\n",
    "            self.employees.remove(employee)\n",
    "\n",
    "    def print_employees(self):\n",
    "        print(f\"{self.fullname()} manages ({', '.join([e.fullname() for e in self.employees])})\")\n"
   ],
   "outputs": [],
   "metadata": {}
  },
  {
   "cell_type": "code",
   "execution_count": 44,
   "source": [
    "# create object\n",
    "manager1 = Manager(\"Mat\", \"Anderson\", developer1)\n",
    "\n",
    "# use object\n",
    "manager1.add_employee(developer2)\n",
    "\n",
    "print(manager1.email)\n",
    "manager1.print_employees()"
   ],
   "outputs": [
    {
     "output_type": "stream",
     "name": "stdout",
     "text": [
      "Mat.Anderson@email.com\n",
      "Mat Anderson manages (John Smith, David Jhonson)\n"
     ]
    }
   ],
   "metadata": {}
  },
  {
   "cell_type": "markdown",
   "source": [
    "## Next\n",
    "- Using Python special methods and overloading"
   ],
   "metadata": {}
  }
 ],
 "metadata": {
  "orig_nbformat": 4,
  "language_info": {
   "name": "python",
   "version": "3.9.7",
   "mimetype": "text/x-python",
   "codemirror_mode": {
    "name": "ipython",
    "version": 3
   },
   "pygments_lexer": "ipython3",
   "nbconvert_exporter": "python",
   "file_extension": ".py"
  },
  "kernelspec": {
   "name": "python3",
   "display_name": "Python 3.9.7 64-bit"
  },
  "interpreter": {
   "hash": "aee8b7b246df8f9039afb4144a1f6fd8d2ca17a180786b69acc140d282b71a49"
  }
 },
 "nbformat": 4,
 "nbformat_minor": 2
}