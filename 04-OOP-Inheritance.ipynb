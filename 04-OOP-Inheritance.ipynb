{
 "cells": [
  {
   "cell_type": "markdown",
   "source": [
    "<div class=\"alert alert-info\">\n",
    "    <h1 align=\"center\">Inhertiance and Subclasses</h1>\n",
    "    <h3 align=\"center\"> Object-Oriented Programming in Python</h3>\n",
    "    <h5 align=\"center\">Seyed Naser Razavi (http://www.snrazavi.ir/)</h5>\n",
    "</div>"
   ],
   "metadata": {}
  },
  {
   "cell_type": "markdown",
   "source": [
    "## where are we now?\n",
    "So far, we have learned how to:\n",
    "- Define a class, create objects, and use objects\n",
    "- Use instance variables and class variables to store data\n",
    "- Use instance methods to add behavior to the class\n",
    "- Define class methods and use them to create new instances.\n",
    "- Define and use static methods\n",
    "  \n",
    "```python\n",
    "class Employee:\n",
    "    \n",
    "    hourly_wage = 20\n",
    "    count = 0\n",
    "\n",
    "    def __init__(self, name, surname):\n",
    "        self.name = name\n",
    "        self.surname = surname\n",
    "        self.email = f\"{self.name}.{self.surname}@email.com\"\n",
    "        self.hours = 0\n",
    "        \n",
    "        Employee.count += 1                \n",
    "        self.id = f\"{Employee.count:05d}\"\n",
    "\n",
    "    def fullname(self):\n",
    "        return f\"{self.name} {self.surname}\"\n",
    "\n",
    "    def add_daily_hours(self, daily_hours):\n",
    "        self.hours += daily_hours\n",
    "\n",
    "    def salary(self):\n",
    "        return self.hours * self.hourly_wage\n",
    "\n",
    "    @classmethod\n",
    "    def set_hourly_wage(cls, hourly_wage):\n",
    "        cls.hourly_wage = hourly_wage\n",
    "\n",
    "    @classmethod\n",
    "    def from_string(cls, name_str):\n",
    "        first_name, last_name = name_str.split('-')\n",
    "        return cls(first_name, last_name)\n",
    "\n",
    "    @staticmethod\n",
    "    def is_workday(day):\n",
    "        return day.weekday() != 5 and day.weekday() != 6\n",
    "```"
   ],
   "metadata": {}
  },
  {
   "cell_type": "markdown",
   "source": [
    "## Inheritance\n",
    "- Allows us to inherit attributes and methods from the parent class.\n",
    "- Then we can add new functionalities or override some of the existing functionalities.\n",
    "- Today, we will create two subclasses called Developer and Manager and add new functionalites to them."
   ],
   "metadata": {}
  },
  {
   "cell_type": "code",
   "execution_count": 1,
   "source": [
    "class Employee:\n",
    "    \n",
    "    hourly_wage = 20\n",
    "    count = 0\n",
    "\n",
    "    def __init__(self, name, surname):\n",
    "        self.name = name\n",
    "        self.surname = surname\n",
    "        self.email = f\"{self.name}.{self.surname}@email.com\"\n",
    "        self.hours = 0\n",
    "        \n",
    "        Employee.count += 1                \n",
    "        self.id = f\"{Employee.count:05d}\"\n",
    "\n",
    "    def fullname(self):\n",
    "        return f\"{self.name} {self.surname}\"\n",
    "\n",
    "    def add_daily_hours(self, daily_hours):\n",
    "        self.hours += daily_hours\n",
    "\n",
    "    def salary(self):\n",
    "        return self.hours * self.hourly_wage\n",
    "\n",
    "    @classmethod\n",
    "    def set_hourly_wage(cls, hourly_wage):\n",
    "        cls.hourly_wage = hourly_wage\n",
    "\n",
    "    @classmethod\n",
    "    def from_string(cls, name_str):\n",
    "        first_name, last_name = name_str.split('-')\n",
    "        return cls(first_name, last_name)\n",
    "\n",
    "    @staticmethod\n",
    "    def is_workday(day):\n",
    "        return day.weekday() != 5 and day.weekday() != 6"
   ],
   "outputs": [],
   "metadata": {}
  },
  {
   "cell_type": "code",
   "execution_count": null,
   "source": [],
   "outputs": [],
   "metadata": {}
  },
  {
   "cell_type": "code",
   "execution_count": null,
   "source": [],
   "outputs": [],
   "metadata": {}
  },
  {
   "cell_type": "code",
   "execution_count": null,
   "source": [],
   "outputs": [],
   "metadata": {}
  },
  {
   "cell_type": "code",
   "execution_count": null,
   "source": [],
   "outputs": [],
   "metadata": {}
  },
  {
   "cell_type": "code",
   "execution_count": null,
   "source": [],
   "outputs": [],
   "metadata": {}
  },
  {
   "cell_type": "code",
   "execution_count": null,
   "source": [],
   "outputs": [],
   "metadata": {}
  },
  {
   "cell_type": "code",
   "execution_count": null,
   "source": [],
   "outputs": [],
   "metadata": {}
  },
  {
   "cell_type": "code",
   "execution_count": null,
   "source": [],
   "outputs": [],
   "metadata": {}
  },
  {
   "cell_type": "code",
   "execution_count": null,
   "source": [],
   "outputs": [],
   "metadata": {}
  }
 ],
 "metadata": {
  "orig_nbformat": 4,
  "language_info": {
   "name": "python",
   "version": "3.9.7",
   "mimetype": "text/x-python",
   "codemirror_mode": {
    "name": "ipython",
    "version": 3
   },
   "pygments_lexer": "ipython3",
   "nbconvert_exporter": "python",
   "file_extension": ".py"
  },
  "kernelspec": {
   "name": "python3",
   "display_name": "Python 3.9.7 64-bit"
  },
  "interpreter": {
   "hash": "aee8b7b246df8f9039afb4144a1f6fd8d2ca17a180786b69acc140d282b71a49"
  }
 },
 "nbformat": 4,
 "nbformat_minor": 2
}