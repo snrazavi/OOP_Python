{
 "cells": [
  {
   "cell_type": "markdown",
   "metadata": {},
   "source": [
    "## Where are we now?\n",
    "So far, we have learned how to \n",
    "- define a class\n",
    "- define instance variables for a class\n",
    "- create an instance of a class\n",
    "- initialize the instance variables by implementing the `__init__()` method\n",
    "- define instance methods for a class\n",
    "- use `self` arguments in instance methods\n",
    "\n",
    "```python\n",
    "class Employee:\n",
    "    \n",
    "    def __init__(self, name, surname):\n",
    "        self.name = name\n",
    "        self.surname = surname\n",
    "        self.email = f\"{self.name}.{self.surname}@email.com\"\n",
    "\n",
    "    def fullname(self):\n",
    "        return f\"{self.name} {self.surname}\"\n",
    "```"
   ]
  },
  {
   "cell_type": "markdown",
   "metadata": {},
   "source": [
    "## Instance variables vs. class variables\n",
    "- To make the `Employee` class more useful, let's add the logic to compute monthly `salary`.\n",
    "- So, every month you want to compute the salary for each employee.\n",
    "- To compute `salary`, you need two information:\n",
    "  - `hourly_wage`: suppose this value is the same for all employees (**class variable**)\n",
    "  - `hours_worked` during the month (**instance variable**)"
   ]
  },
  {
   "cell_type": "code",
   "execution_count": 1,
   "metadata": {},
   "outputs": [],
   "source": [
    "class Employee:\n",
    "    \n",
    "    hourly_wage = 20  # class variable: a variable which is shared among all instances\n",
    "\n",
    "    def __init__(self, name, surname):\n",
    "        self.name = name  # instance variable: an attribute which is specific for each object\n",
    "        self.surname = surname\n",
    "        self.email = f\"{self.name}.{self.surname}@email.com\"\n",
    "        self.hours = 0\n",
    "\n",
    "    def fullname(self):\n",
    "        return f\"{self.name} {self.surname}\"\n",
    "\n",
    "    def add_daily_hours(self, daily_hours):\n",
    "        self.hours += daily_hours\n",
    "\n",
    "    def salary(self):\n",
    "        return self.hours * Employee.hourly_wage"
   ]
  },
  {
   "cell_type": "code",
   "execution_count": 2,
   "metadata": {},
   "outputs": [
    {
     "name": "stdout",
     "output_type": "stream",
     "text": [
      "John Smith 420\n",
      "David Johnson 360\n"
     ]
    }
   ],
   "source": [
    "employee1 = Employee(\"John\", \"Smith\")\n",
    "employee2 = Employee(\"David\", \"Johnson\")\n",
    "\n",
    "employee1.add_daily_hours(8)\n",
    "employee1.add_daily_hours(5)\n",
    "employee1.add_daily_hours(8)\n",
    "\n",
    "employee2.add_daily_hours(10)\n",
    "employee2.add_daily_hours(8)\n",
    "employee2.add_daily_hours(0)\n",
    "\n",
    "print(employee1.fullname(),  employee1.salary())\n",
    "print(employee2.fullname(),  employee2.salary())"
   ]
  },
  {
   "cell_type": "code",
   "execution_count": 3,
   "metadata": {},
   "outputs": [],
   "source": [
    "class Employee:\n",
    "    \n",
    "    hourly_wage = 20\n",
    "\n",
    "    def __init__(self, name, surname):\n",
    "        self.name = name\n",
    "        self.surname = surname\n",
    "        self.email = f\"{self.name}.{self.surname}@email.com\"\n",
    "        self.hours = 0\n",
    "\n",
    "    def fullname(self):\n",
    "        return f\"{self.name} {self.surname}\"\n",
    "\n",
    "    def add_daily_hours(self, daily_hours):\n",
    "        self.hours += daily_hours\n",
    "\n",
    "    def salary(self):\n",
    "        return self.hours * self.hourly_wage  # using self instead of class name"
   ]
  },
  {
   "cell_type": "code",
   "execution_count": 4,
   "metadata": {},
   "outputs": [
    {
     "name": "stdout",
     "output_type": "stream",
     "text": [
      "John Smith 420\n",
      "David Johnson 360\n"
     ]
    }
   ],
   "source": [
    "employee1 = Employee(\"John\", \"Smith\")\n",
    "employee2 = Employee(\"David\", \"Johnson\")\n",
    "\n",
    "employee1.add_daily_hours(8)\n",
    "employee1.add_daily_hours(5)\n",
    "employee1.add_daily_hours(8)\n",
    "\n",
    "employee2.add_daily_hours(10)\n",
    "employee2.add_daily_hours(8)\n",
    "employee2.add_daily_hours(0)\n",
    "\n",
    "print(employee1.fullname(),  employee1.salary())\n",
    "print(employee2.fullname(),  employee2.salary())"
   ]
  },
  {
   "cell_type": "markdown",
   "metadata": {},
   "source": [
    "### Question: \n",
    "- What happens if we run `employee1.hourly_wage = 30`?"
   ]
  },
  {
   "cell_type": "code",
   "execution_count": 5,
   "metadata": {},
   "outputs": [
    {
     "name": "stdout",
     "output_type": "stream",
     "text": [
      "20\n",
      "30\n",
      "20\n"
     ]
    }
   ],
   "source": [
    "employee1.hourly_wage = 30\n",
    "\n",
    "print(Employee.hourly_wage)\n",
    "print(employee1.hourly_wage)\n",
    "print(employee2.hourly_wage)"
   ]
  },
  {
   "cell_type": "markdown",
   "metadata": {},
   "source": [
    "### What happened exactly?\n",
    "- by running `employee1.hourly_wage = 30`, we have added an **instance variable** to `employee1` object.\n",
    "- Let's check this."
   ]
  },
  {
   "cell_type": "code",
   "execution_count": 6,
   "metadata": {},
   "outputs": [
    {
     "name": "stdout",
     "output_type": "stream",
     "text": [
      "{'name': 'John', 'surname': 'Smith', 'email': 'John.Smith@email.com', 'hours': 21, 'hourly_wage': 30}\n"
     ]
    }
   ],
   "source": [
    "print(employee1.__dict__)"
   ]
  },
  {
   "cell_type": "code",
   "execution_count": 7,
   "metadata": {},
   "outputs": [
    {
     "name": "stdout",
     "output_type": "stream",
     "text": [
      "{'name': 'David', 'surname': 'Johnson', 'email': 'David.Johnson@email.com', 'hours': 18}\n"
     ]
    }
   ],
   "source": [
    "print(employee2.__dict__)"
   ]
  },
  {
   "cell_type": "code",
   "execution_count": 8,
   "metadata": {},
   "outputs": [
    {
     "name": "stdout",
     "output_type": "stream",
     "text": [
      "{'__module__': '__main__', 'hourly_wage': 20, '__init__': <function Employee.__init__ at 0x7fda5957e790>, 'fullname': <function Employee.fullname at 0x7fda5957e700>, 'add_daily_hours': <function Employee.add_daily_hours at 0x7fda5957e280>, 'salary': <function Employee.salary at 0x7fda5957e160>, '__dict__': <attribute '__dict__' of 'Employee' objects>, '__weakref__': <attribute '__weakref__' of 'Employee' objects>, '__doc__': None}\n"
     ]
    }
   ],
   "source": [
    "print(Employee.__dict__)"
   ]
  },
  {
   "cell_type": "markdown",
   "metadata": {},
   "source": [
    "### Another example for class variables: assigning a unique ID to each employee object\n",
    "- We will do this by counting the number of employees created so far\n",
    "- In this example, we need to add two variables to our class:\n",
    "  - `count`: a class variable to count the number of instances created so far (zero at first)\n",
    "    - Everytime we create a new instance of the class, we have to increment it by `1`.\n",
    "    - Therefore, this incrementation should be done in the `__init__()` method.\n",
    "  - `id`: A five-digit unique identifier assigned automatically to each instance upon instance creation."
   ]
  },
  {
   "cell_type": "code",
   "execution_count": 9,
   "metadata": {},
   "outputs": [],
   "source": [
    "class Employee:\n",
    "    \n",
    "    hourly_wage = 20\n",
    "    count = 0  # this class variable is used to keep track of total number of employess\n",
    "\n",
    "    def __init__(self, name, surname):\n",
    "        self.name = name\n",
    "        self.surname = surname\n",
    "        self.email = f\"{self.name}.{self.surname}@email.com\"\n",
    "        self.hours = 0\n",
    "        \n",
    "        Employee.count += 1\n",
    "        self.id = f\"{Employee.count:05d}\"  # an instance variable with a specific value for each instance\n",
    "\n",
    "    def fullname(self):\n",
    "        return f\"{self.name} {self.surname}\"\n",
    "\n",
    "    def add_daily_hours(self, daily_hours):\n",
    "        self.hours += daily_hours\n",
    "\n",
    "    def salary(self):\n",
    "        return self.hours * self.hourly_wage"
   ]
  },
  {
   "cell_type": "code",
   "execution_count": 10,
   "metadata": {},
   "outputs": [
    {
     "name": "stdout",
     "output_type": "stream",
     "text": [
      "00001\n",
      "00002\n",
      "00003\n"
     ]
    }
   ],
   "source": [
    "employee1 = Employee(\"John\", \"Smith\")\n",
    "employee2 = Employee(\"David\", \"Johnson\")\n",
    "employee3 = Employee(\"Mark\", \"Kenny\")\n",
    "\n",
    "print(employee1.id)\n",
    "print(employee2.id)\n",
    "print(employee3.id)"
   ]
  },
  {
   "cell_type": "markdown",
   "metadata": {},
   "source": [
    "## Next: class methods and static methods\n",
    "- So far, we have seen how to define and use regular methods (instance methods)\n",
    "- There are two other different methods we will see in the next lesson:\n",
    "  - Class methods: like a class variable, a class method belongs to the class itself. Therefore, it can only access class variables, not instance variables.\n",
    "  - Static methods: a method which does not access any instance variables or class variables"
   ]
  }
 ],
 "metadata": {
  "interpreter": {
   "hash": "aee8b7b246df8f9039afb4144a1f6fd8d2ca17a180786b69acc140d282b71a49"
  },
  "kernelspec": {
   "display_name": "Python 3 (ipykernel)",
   "language": "python",
   "name": "python3"
  },
  "language_info": {
   "codemirror_mode": {
    "name": "ipython",
    "version": 3
   },
   "file_extension": ".py",
   "mimetype": "text/x-python",
   "name": "python",
   "nbconvert_exporter": "python",
   "pygments_lexer": "ipython3",
   "version": "3.9.7"
  }
 },
 "nbformat": 4,
 "nbformat_minor": 2
}
