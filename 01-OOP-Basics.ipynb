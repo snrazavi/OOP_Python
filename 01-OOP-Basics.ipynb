{
 "cells": [
  {
   "cell_type": "markdown",
   "metadata": {},
   "source": [
    "## Object Oriented Programming in Python\n",
    "- Class\n",
    "- Object (instance)\n",
    "  - attributes\n",
    "  - methods\n",
    "- instance variable, class variable\n",
    "- instance methods, class method, static method\n",
    "- inheritance\n",
    "- python special methods"
   ]
  },
  {
   "cell_type": "markdown",
   "metadata": {},
   "source": [
    "## Why OOP?\n",
    "- A more clear and more understandle code (by hiding details from user)\n",
    "- You can create a class in one application and easily use it in other applications (code reuseability)\n",
    "- Easy maintainance: you can easily change your class and add more attributes and methods to it.\n",
    "- Inheritance"
   ]
  },
  {
   "cell_type": "markdown",
   "metadata": {},
   "source": [
    "## What is a class?\n",
    " - We use classes to define a set of **related data** along with the **operations** for those data.\n",
    "\n",
    "### Car\n",
    "For example consider a car object:\n",
    "- Data (attributes): \n",
    "  - `model`: Toyota\n",
    "  - `year`: 2021\n",
    "  - `price`: 30000\n",
    "  - `fuel_type`: Gasoline\n",
    "  - `gearbox_type`: manual\n",
    "  - `current_amount_of_fuel`: 20 litres\n",
    "  - `current_speed`: 120\n",
    "  - `current_gear`: 5\n",
    "  - `color`: black\n",
    "  - `photos`: a list of images of the car (useful for applications like \"Divar\")\n",
    "  - etc.\n",
    "- Operations (methods):\n",
    "  - `accelerte` : changes `current_speed`\n",
    "  - `brake`: changes `current_speed`\n",
    "  - `add_fuel`: changes `current_amount_of_fuel`\n",
    "  - etc."
   ]
  },
  {
   "cell_type": "markdown",
   "metadata": {},
   "source": [
    "## Which attributes and methods?\n",
    "- Completely depends on the application\n",
    "- For a sale application: `model`, `year`, `price`, `gearbox_type`, `photos`, `insurance`, etc.\n",
    "- For a gaming application: `current_speed`, `current_gear`, `position`, a 3D model, etc."
   ]
  },
  {
   "cell_type": "markdown",
   "metadata": {},
   "source": [
    "### Employee\n",
    "Consider an employee object for a payroll system:\n",
    "- Data (attributes):\n",
    "  - `name`\n",
    "  - `surname`\n",
    "  - `email`\n",
    "  - `hours_worked` during a month\n",
    "  - `hourly_wage`\n",
    "- Operations (methods):\n",
    "  - `compute_salary`: uses `hours_worked` and `hourly_wage`\n",
    "  - `give_raise`: changes `hourly_wage`\n",
    "  - `display_fullname`: uses `name`, `surname`\n",
    "  - `print_payslip`: uses `name`, `surname`, `compute_salary` etc."
   ]
  },
  {
   "cell_type": "markdown",
   "metadata": {},
   "source": [
    "## Defining a class\n",
    "- A class is like a blueprint that tells us what kind of data and operations an object has."
   ]
  },
  {
   "cell_type": "code",
   "execution_count": 1,
   "metadata": {},
   "outputs": [],
   "source": [
    "class Employee:\n",
    "    pass"
   ]
  },
  {
   "cell_type": "code",
   "execution_count": 2,
   "metadata": {},
   "outputs": [
    {
     "name": "stdout",
     "output_type": "stream",
     "text": [
      "<__main__.Employee object at 0x7f80597fed90>\n",
      "<__main__.Employee object at 0x7f80597fee20>\n"
     ]
    }
   ],
   "source": [
    "employee1 = Employee()  # creating object (instansiation)\n",
    "employee2 = Employee()  # creating object (instansiation)\n",
    "\n",
    "print(employee1)\n",
    "print(employee2)"
   ]
  },
  {
   "cell_type": "markdown",
   "metadata": {},
   "source": [
    "## Instance variables\n",
    "- contains data that is specific to each instance"
   ]
  },
  {
   "cell_type": "code",
   "execution_count": 3,
   "metadata": {},
   "outputs": [
    {
     "name": "stdout",
     "output_type": "stream",
     "text": [
      "John.smith@email.com\n",
      "David.johnson@email.com\n"
     ]
    }
   ],
   "source": [
    "employee1.name = \"John\"\n",
    "employee1.surname = \"Smith\"\n",
    "employee1.email = \"John.smith@email.com\"\n",
    "\n",
    "employee2.name = \"David\"\n",
    "employee2.surname = \"Johnson\"\n",
    "employee2.email = \"David.johnson@email.com\"\n",
    "\n",
    "print(employee1.email)\n",
    "print(employee2.email)"
   ]
  },
  {
   "cell_type": "markdown",
   "metadata": {},
   "source": [
    "## Constructor\n",
    "- A method which is run when you want to create an instance of the class.\n",
    "- The main goal of constructor is to initialize the object attributes (instance variables). "
   ]
  },
  {
   "cell_type": "code",
   "execution_count": 4,
   "metadata": {},
   "outputs": [],
   "source": [
    "class Employee:\n",
    "    \n",
    "    def __init__(self, name, surname):\n",
    "        self.name = name\n",
    "        self.surname = surname\n",
    "        self.email = f\"{self.name}.{self.surname}@email.com\""
   ]
  },
  {
   "cell_type": "code",
   "execution_count": 5,
   "metadata": {},
   "outputs": [
    {
     "name": "stdout",
     "output_type": "stream",
     "text": [
      "John\n",
      "Smith\n",
      "John.Smith@email.com\n"
     ]
    }
   ],
   "source": [
    "employee1 = Employee(\"John\", \"Smith\")\n",
    "\n",
    "print(employee1.name)\n",
    "print(employee1.surname)\n",
    "print(employee1.email)"
   ]
  },
  {
   "cell_type": "markdown",
   "metadata": {},
   "source": [
    "### `self` argument in instance methods"
   ]
  },
  {
   "cell_type": "code",
   "execution_count": 6,
   "metadata": {},
   "outputs": [
    {
     "name": "stdout",
     "output_type": "stream",
     "text": [
      "John\n",
      "Smith\n",
      "John.Smith@email.com\n"
     ]
    }
   ],
   "source": [
    "Employee.__init__(employee1, \"John\", \"Smith\") # equal to employee1 = Employee(\"John\", \"Smith\")\n",
    "\n",
    "print(employee1.name)\n",
    "print(employee1.surname)\n",
    "print(employee1.email)"
   ]
  },
  {
   "cell_type": "code",
   "execution_count": 7,
   "metadata": {},
   "outputs": [
    {
     "name": "stdout",
     "output_type": "stream",
     "text": [
      "David\n",
      "Johnson\n",
      "David.Johnson@email.com\n"
     ]
    }
   ],
   "source": [
    "employee2 = Employee(\"David\", \"Johnson\")\n",
    "\n",
    "print(employee2.name)\n",
    "print(employee2.surname)\n",
    "print(employee2.email)"
   ]
  },
  {
   "cell_type": "markdown",
   "metadata": {},
   "source": [
    "## Instance methods: adding behaviour to the class\n",
    "- In addition to attributes (data), classes also have behaviours.\n",
    "- We define behaviours by implementing methods.\n",
    "- A method is a function that is associated to a class."
   ]
  },
  {
   "cell_type": "code",
   "execution_count": 8,
   "metadata": {},
   "outputs": [],
   "source": [
    "class Employee:\n",
    "    \n",
    "    def __init__(self, name, surname):\n",
    "        self.name = name\n",
    "        self.surname = surname\n",
    "        self.email = f\"{self.name}.{self.surname}@email.com\"\n",
    "\n",
    "    def fullname(self):\n",
    "        return f\"{self.name} {self.surname}\""
   ]
  },
  {
   "cell_type": "code",
   "execution_count": 9,
   "metadata": {},
   "outputs": [
    {
     "name": "stdout",
     "output_type": "stream",
     "text": [
      "John Smith\n"
     ]
    }
   ],
   "source": [
    "employee1 = Employee(\"John\", \"Smith\")\n",
    "\n",
    "print(employee1.fullname())"
   ]
  },
  {
   "cell_type": "markdown",
   "metadata": {},
   "source": [
    "### `self` argument in methods\n",
    "- The first argument of a (instance) method is always `self`.\n",
    "- It's a very common mistake to forget the `self` argument.\n",
    "- When, you run `employee1.fullname()`, Python runs `Employee.fullname(employee1)` in the background."
   ]
  },
  {
   "cell_type": "code",
   "execution_count": 10,
   "metadata": {},
   "outputs": [
    {
     "name": "stdout",
     "output_type": "stream",
     "text": [
      "John Smith\n"
     ]
    }
   ],
   "source": [
    "print(Employee.fullname(employee1))  # Equal to employee1.fullname()"
   ]
  },
  {
   "cell_type": "markdown",
   "metadata": {},
   "source": [
    "### Question: What happens if you forget to pass in `self` as the first argument in a method?\n",
    "- Let's see the answer!"
   ]
  },
  {
   "cell_type": "code",
   "execution_count": 11,
   "metadata": {},
   "outputs": [],
   "source": [
    "class Employee:\n",
    "    \n",
    "    def __init__(self, name, surname):\n",
    "        self.name = name\n",
    "        self.surname = surname\n",
    "        self.email = f\"{self.name}.{self.surname}@email.com\"\n",
    "\n",
    "    # here, self argument is missed diliberately\n",
    "    def fullname():\n",
    "        return f\"{self.name} {self.surname}\""
   ]
  },
  {
   "cell_type": "code",
   "execution_count": 12,
   "metadata": {},
   "outputs": [],
   "source": [
    "employee1 = Employee(\"John\", \"Smith\")"
   ]
  },
  {
   "cell_type": "markdown",
   "metadata": {},
   "source": [
    "Now, what happens if we run the following cell?\n",
    "- hint: think how Python runs this code? "
   ]
  },
  {
   "cell_type": "code",
   "execution_count": 13,
   "metadata": {},
   "outputs": [
    {
     "ename": "TypeError",
     "evalue": "fullname() takes 0 positional arguments but 1 was given",
     "output_type": "error",
     "traceback": [
      "\u001b[0;31m---------------------------------------------------------------------------\u001b[0m",
      "\u001b[0;31mTypeError\u001b[0m                                 Traceback (most recent call last)",
      "\u001b[0;32m/var/folders/yp/6jvrnsq53596z8h0zc64zkn00000gn/T/ipykernel_22323/2541904170.py\u001b[0m in \u001b[0;36m<module>\u001b[0;34m\u001b[0m\n\u001b[0;32m----> 1\u001b[0;31m \u001b[0memployee1\u001b[0m\u001b[0;34m.\u001b[0m\u001b[0mfullname\u001b[0m\u001b[0;34m(\u001b[0m\u001b[0;34m)\u001b[0m  \u001b[0;31m# runing this will result in error\u001b[0m\u001b[0;34m\u001b[0m\u001b[0;34m\u001b[0m\u001b[0m\n\u001b[0m",
      "\u001b[0;31mTypeError\u001b[0m: fullname() takes 0 positional arguments but 1 was given"
     ]
    }
   ],
   "source": [
    "employee1.fullname()  # runing this will result in error"
   ]
  },
  {
   "cell_type": "markdown",
   "metadata": {},
   "source": [
    "**Answer:**\n",
    "- Python replaces `employee1.fullname()` with `Employee.fullname(employee1)`\n",
    "- As you can see, in the background the `employee1` object is passed in as an argument.\n",
    "- But if you see the implementation of `fullename()` method in `Employee` class, this method takes no argument. \n",
    "\n",
    "Therefore, whenver you see this error:\n",
    "```python\n",
    "TypeError: fullname() takes \"n\" positional arguments but \"n+1\" was given\n",
    "```\n",
    "most of the time, the reason is forgetting to pass in the `self` argument."
   ]
  },
  {
   "cell_type": "markdown",
   "metadata": {},
   "source": [
    "## Next: instance variables and class variables\n",
    "- So far, we have seen how to define and use instance variables.\n",
    "- In OOP, there is another type of variable which we will see in the next lesson:\n",
    "  - Class variable: unlike an instance variable, a class variable belongs to the class itself; however it's value is shared among all instances of the class.\n",
    "- In the next lesson, we will see some use cases for class variables. \n"
   ]
  }
 ],
 "metadata": {
  "interpreter": {
   "hash": "aee8b7b246df8f9039afb4144a1f6fd8d2ca17a180786b69acc140d282b71a49"
  },
  "kernelspec": {
   "display_name": "Python 3 (ipykernel)",
   "language": "python",
   "name": "python3"
  },
  "language_info": {
   "codemirror_mode": {
    "name": "ipython",
    "version": 3
   },
   "file_extension": ".py",
   "mimetype": "text/x-python",
   "name": "python",
   "nbconvert_exporter": "python",
   "pygments_lexer": "ipython3",
   "version": "3.9.7"
  }
 },
 "nbformat": 4,
 "nbformat_minor": 2
}
