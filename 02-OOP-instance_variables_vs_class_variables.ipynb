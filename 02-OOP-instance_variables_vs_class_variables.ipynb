{
 "cells": [
  {
   "cell_type": "markdown",
   "source": [
    "## Where are we now?"
   ],
   "metadata": {}
  },
  {
   "cell_type": "markdown",
   "source": [
    "## Instance variables vs. class variables\n",
    "- To make the `Employee` class more useful, let's add the logic to compute monthly `salary`.\n",
    "- So, every month you want to compute the salary for each employee.\n",
    "- To compute `salary`, you need two information:\n",
    "  - `hourly_wage`: suppose this value is the same for all employees (**class variable**)\n",
    "  - `hours_worked` during the month (**instance variable**)"
   ],
   "metadata": {}
  },
  {
   "cell_type": "code",
   "execution_count": 1,
   "source": [
    "class Employee:\n",
    "    \n",
    "    hourly_wage = 20  # class variable: a variable which is shared among all instances\n",
    "\n",
    "    def __init__(self, name, surname):\n",
    "        self.name = name  # instance variable: an attribute which is specific for each object\n",
    "        self.surname = surname\n",
    "        self.email = f\"{self.name}.{self.surname}@email.com\"\n",
    "        self.hours = 0\n",
    "\n",
    "    def fullname(self):\n",
    "        return f\"{self.name} {self.surname}\"\n",
    "\n",
    "    def add_daily_hours(self, daily_hours):\n",
    "        self.hours += daily_hours\n",
    "\n",
    "    def salary(self):\n",
    "        return self.hours * Employee.hourly_wage"
   ],
   "outputs": [],
   "metadata": {}
  },
  {
   "cell_type": "code",
   "execution_count": 2,
   "source": [
    "employee1 = Employee(\"John\", \"Smith\")\n",
    "employee2 = Employee(\"David\", \"Johnson\")\n",
    "\n",
    "employee1.add_daily_hours(8)\n",
    "employee1.add_daily_hours(5)\n",
    "employee1.add_daily_hours(8)\n",
    "\n",
    "employee2.add_daily_hours(10)\n",
    "employee2.add_daily_hours(8)\n",
    "employee2.add_daily_hours(0)\n",
    "\n",
    "print(employee1.fullname(),  employee1.salary())\n",
    "print(employee2.fullname(),  employee2.salary())"
   ],
   "outputs": [
    {
     "output_type": "stream",
     "name": "stdout",
     "text": [
      "John Smith 420\n",
      "David Johnson 360\n"
     ]
    }
   ],
   "metadata": {}
  },
  {
   "cell_type": "code",
   "execution_count": 3,
   "source": [
    "class Employee:\n",
    "    \n",
    "    hourly_wage = 20\n",
    "\n",
    "    def __init__(self, name, surname):\n",
    "        self.name = name\n",
    "        self.surname = surname\n",
    "        self.email = f\"{self.name}.{self.surname}@email.com\"\n",
    "        self.hours = 0\n",
    "\n",
    "    def fullname(self):\n",
    "        return f\"{self.name} {self.surname}\"\n",
    "\n",
    "    def add_daily_hours(self, daily_hours):\n",
    "        self.hours += daily_hours\n",
    "\n",
    "    def salary(self):\n",
    "        return self.hours * self.hourly_wage  # using self instead of class name"
   ],
   "outputs": [],
   "metadata": {}
  },
  {
   "cell_type": "code",
   "execution_count": 4,
   "source": [
    "employee1 = Employee(\"John\", \"Smith\")\n",
    "employee2 = Employee(\"David\", \"Johnson\")\n",
    "\n",
    "employee1.add_daily_hours(8)\n",
    "employee1.add_daily_hours(5)\n",
    "employee1.add_daily_hours(8)\n",
    "\n",
    "employee2.add_daily_hours(10)\n",
    "employee2.add_daily_hours(8)\n",
    "employee2.add_daily_hours(0)\n",
    "\n",
    "print(employee1.fullname(),  employee1.salary())\n",
    "print(employee2.fullname(),  employee2.salary())"
   ],
   "outputs": [
    {
     "output_type": "stream",
     "name": "stdout",
     "text": [
      "John Smith 420\n",
      "David Johnson 360\n"
     ]
    }
   ],
   "metadata": {}
  },
  {
   "cell_type": "markdown",
   "source": [
    "### Question: "
   ],
   "metadata": {}
  },
  {
   "cell_type": "code",
   "execution_count": 5,
   "source": [
    "employee1.hourly_wage = 30\n",
    "\n",
    "print(Employee.hourly_wage)\n",
    "print(employee1.hourly_wage)\n",
    "print(employee2.hourly_wage)"
   ],
   "outputs": [
    {
     "output_type": "stream",
     "name": "stdout",
     "text": [
      "20\n",
      "30\n",
      "20\n"
     ]
    }
   ],
   "metadata": {}
  },
  {
   "cell_type": "markdown",
   "source": [
    "### What happened exactly?\n",
    "- by running `employee1.hourly_wage = 30`, we have added an **instance variable** to `employee1` object.\n",
    "- Let's check this."
   ],
   "metadata": {}
  },
  {
   "cell_type": "code",
   "execution_count": 6,
   "source": [
    "print(employee1.__dict__)"
   ],
   "outputs": [
    {
     "output_type": "stream",
     "name": "stdout",
     "text": [
      "{'name': 'John', 'surname': 'Smith', 'email': 'John.Smith@email.com', 'hours': 21, 'hourly_wage': 30}\n"
     ]
    }
   ],
   "metadata": {}
  },
  {
   "cell_type": "code",
   "execution_count": 7,
   "source": [
    "print(employee2.__dict__)"
   ],
   "outputs": [
    {
     "output_type": "stream",
     "name": "stdout",
     "text": [
      "{'name': 'David', 'surname': 'Johnson', 'email': 'David.Johnson@email.com', 'hours': 18}\n"
     ]
    }
   ],
   "metadata": {}
  },
  {
   "cell_type": "code",
   "execution_count": 8,
   "source": [
    "print(Employee.__dict__)"
   ],
   "outputs": [
    {
     "output_type": "stream",
     "name": "stdout",
     "text": [
      "{'__module__': '__main__', 'hourly_wage': 20, '__init__': <function Employee.__init__ at 0x7fda5957e790>, 'fullname': <function Employee.fullname at 0x7fda5957e700>, 'add_daily_hours': <function Employee.add_daily_hours at 0x7fda5957e280>, 'salary': <function Employee.salary at 0x7fda5957e160>, '__dict__': <attribute '__dict__' of 'Employee' objects>, '__weakref__': <attribute '__weakref__' of 'Employee' objects>, '__doc__': None}\n"
     ]
    }
   ],
   "metadata": {}
  },
  {
   "cell_type": "markdown",
   "source": [
    "### Another example for class variables: assigning a unique ID to each employee object\n",
    "- We will do this by counting the number of employees created so far\n",
    "- In this example, we need to add to variable to our class:\n",
    "  - `count`: a class variable to count the number of instances created so far (zero at first)\n",
    "    - Everytime we create a new instance of the class, we have to increment it by `1`.\n",
    "    - Therefore, this incrementation should be done in the `__init__()` method.\n",
    "  - `id`: A five-digit unique identifier assigned automatically to each instance upon instance creation."
   ],
   "metadata": {}
  },
  {
   "cell_type": "code",
   "execution_count": 9,
   "source": [
    "class Employee:\n",
    "    \n",
    "    hourly_wage = 20\n",
    "    count = 0  # this class variable is used to keep track of total number of employess\n",
    "\n",
    "    def __init__(self, name, surname):\n",
    "        self.name = name\n",
    "        self.surname = surname\n",
    "        self.email = f\"{self.name}.{self.surname}@email.com\"\n",
    "        self.hours = 0\n",
    "        \n",
    "        Employee.count += 1\n",
    "        self.id = f\"{Employee.count:05d}\"  # an instance variable with a specific value for each instance\n",
    "\n",
    "    def fullname(self):\n",
    "        return f\"{self.name} {self.surname}\"\n",
    "\n",
    "    def add_daily_hours(self, daily_hours):\n",
    "        self.hours += daily_hours\n",
    "\n",
    "    def salary(self):\n",
    "        return self.hours * self.hourly_wage"
   ],
   "outputs": [],
   "metadata": {}
  },
  {
   "cell_type": "code",
   "execution_count": 10,
   "source": [
    "employee1 = Employee(\"John\", \"Smith\")\n",
    "employee2 = Employee(\"David\", \"Johnson\")\n",
    "employee3 = Employee(\"Mark\", \"Kenny\")\n",
    "\n",
    "print(employee1.id)\n",
    "print(employee2.id)\n",
    "print(employee3.id)"
   ],
   "outputs": [
    {
     "output_type": "stream",
     "name": "stdout",
     "text": [
      "00001\n",
      "00002\n",
      "00003\n"
     ]
    }
   ],
   "metadata": {}
  },
  {
   "cell_type": "markdown",
   "source": [
    "## Next: class methods and static methods\n",
    "- So far, we have seen how to define and use regular methods (instance methods)\n",
    "- There are two other different methods we will see in the next lesson:\n",
    "  - Class methods: like a class variable, a class method belongs to the class itself. Therefore, it can only access class variables, not instance variables.\n",
    "  - Static methods: a method which does not access any instance variables or class variables"
   ],
   "metadata": {}
  }
 ],
 "metadata": {
  "orig_nbformat": 4,
  "language_info": {
   "name": "python",
   "version": "3.9.7",
   "mimetype": "text/x-python",
   "codemirror_mode": {
    "name": "ipython",
    "version": 3
   },
   "pygments_lexer": "ipython3",
   "nbconvert_exporter": "python",
   "file_extension": ".py"
  },
  "kernelspec": {
   "name": "python3",
   "display_name": "Python 3.9.7 64-bit"
  },
  "interpreter": {
   "hash": "aee8b7b246df8f9039afb4144a1f6fd8d2ca17a180786b69acc140d282b71a49"
  }
 },
 "nbformat": 4,
 "nbformat_minor": 2
}