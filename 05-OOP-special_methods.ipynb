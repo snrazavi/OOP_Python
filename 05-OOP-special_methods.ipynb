{
 "cells": [
  {
   "cell_type": "markdown",
   "source": [
    "<div class=\"alert alert-info\">\n",
    "    <h1 align=\"center\">Special Methods</h1>\n",
    "    <h3 align=\"center\"> Object-Oriented Programming in Python</h3>\n",
    "    <h5 align=\"center\">Seyed Naser Razavi (http://www.snrazavi.ir/)</h5>\n",
    "</div>"
   ],
   "metadata": {}
  },
  {
   "cell_type": "markdown",
   "source": [
    "## Were are we now?\n",
    "- Define a class and create objects\n",
    "- Adding data and behavior to the class\n",
    "- Different methods (instance methods, class methods, static methods)\n",
    "- Creating a subclass using inheritance and customizing it\n"
   ],
   "metadata": {}
  },
  {
   "cell_type": "markdown",
   "source": [
    "## Today:\n",
    "- We will learn about special methods (dunder methods)\n",
    "- You have already seen one special method, the `__init__()` method.\n",
    "- As a quick recap, the `__init__()` method is used to create an object and initializing it's instance variables.\n",
    "- As you have seen, you don't need to call this method explicitly. Whenever you want to create an object, the python calls it and runs it for you.\n",
    "\n",
    "## Special methods\n",
    "- Special methods are methods that begin and end with `__` like the `__init__()` method.\n",
    "- They allow us to emulate some built-in behaviors with Python.\n",
    "- They also allow us to implement operator overloading.\n",
    "- Let's see some special methods for the `string` class"
   ],
   "metadata": {}
  },
  {
   "cell_type": "code",
   "execution_count": 10,
   "source": [
    "s = \"Python\"\n",
    "# dir(s)  # all methods which start and end with double underscore are special methods\n",
    "\n",
    "print([m for m in dir(s) if m.startswith(\"__\")])"
   ],
   "outputs": [
    {
     "output_type": "stream",
     "name": "stdout",
     "text": [
      "['__add__', '__class__', '__contains__', '__delattr__', '__dir__', '__doc__', '__eq__', '__format__', '__ge__', '__getattribute__', '__getitem__', '__getnewargs__', '__gt__', '__hash__', '__init__', '__init_subclass__', '__iter__', '__le__', '__len__', '__lt__', '__mod__', '__mul__', '__ne__', '__new__', '__reduce__', '__reduce_ex__', '__repr__', '__rmod__', '__rmul__', '__setattr__', '__sizeof__', '__str__', '__subclasshook__']\n"
     ]
    }
   ],
   "metadata": {}
  },
  {
   "cell_type": "markdown",
   "source": [
    "- In fact when we exectuted the `dir(s)` in the above cell, Python called and execued the `s.__dir__()` method.\n",
    "- let see another example of special methods for the string class."
   ],
   "metadata": {}
  },
  {
   "cell_type": "code",
   "execution_count": 12,
   "source": [
    "# iterate over all characters\n",
    "for i in range(len(s)):\n",
    "    print(s[i])"
   ],
   "outputs": [
    {
     "output_type": "stream",
     "name": "stdout",
     "text": [
      "P\n",
      "y\n",
      "t\n",
      "h\n",
      "o\n",
      "n\n"
     ]
    }
   ],
   "metadata": {}
  },
  {
   "cell_type": "markdown",
   "source": [
    "- In the above example, you used `len(s)` to see how many character are there in the string `s`.\n",
    "- Then `len()` is an operator (operating on a string) which returns the length of the string `s`.\n",
    "- We can use this operator, because string class has a special method named `__len__()`.\n",
    "- In fact, when you call `len(s)`, Python will execute the special method `s.__len__()`. \n",
    "- Also, lists, tuples, sets, dictionaries and many other objects has this special method."
   ],
   "metadata": {}
  },
  {
   "cell_type": "code",
   "execution_count": 13,
   "source": [
    "# list\n",
    "programming_languages = [\"Python\", \"Java\", \"C++\"]\n",
    "print(f\"I love {len(programming_languages)} programming languages\")\n",
    "\n",
    "# tuple\n",
    "weekdays = (\"Monday\", \"Tuesday\", \"Wednesday\", \"Thursday\", \"Friday\", \"Sunday\", \"Saturday\")\n",
    "print(f\"There are {len(weekdays)} days in a week.\")"
   ],
   "outputs": [
    {
     "output_type": "stream",
     "name": "stdout",
     "text": [
      "I love 3 programming languages\n",
      "There are 7 days in a week.\n"
     ]
    }
   ],
   "metadata": {}
  },
  {
   "cell_type": "code",
   "execution_count": 14,
   "source": [
    "print(programming_languages.__len__())\n",
    "print(weekdays.__len__())"
   ],
   "outputs": [
    {
     "output_type": "stream",
     "name": "stdout",
     "text": [
      "3\n",
      "7\n"
     ]
    }
   ],
   "metadata": {}
  },
  {
   "cell_type": "markdown",
   "source": [
    "- Let's see another example of special methods for string class."
   ],
   "metadata": {}
  },
  {
   "cell_type": "code",
   "execution_count": null,
   "source": [
    "print(sorted(programming_languages))"
   ],
   "outputs": [
    {
     "output_type": "stream",
     "name": "stdout",
     "text": [
      "['C++', 'Java', 'Python']\n"
     ]
    }
   ],
   "metadata": {}
  },
  {
   "cell_type": "code",
   "execution_count": 17,
   "source": [
    "print(\"Java\" <= \"Python\")\n",
    "print(\"Python\" >= \"C++\")"
   ],
   "outputs": [
    {
     "output_type": "stream",
     "name": "stdout",
     "text": [
      "True\n",
      "True\n"
     ]
    }
   ],
   "metadata": {}
  },
  {
   "cell_type": "markdown",
   "source": [
    "### Question? How does Python know \"C++\" is before \"Java\" and \"Java\" is before \"Python\"?\n",
    "\n",
    "### Answer:\n",
    "- You can compare two strings because string class has implemented the following special methods: (`s1` and `s2` are two string objects)\n",
    "\n",
    "| Special Method    | Operator | Description           |\n",
    "|:-----------------:|:--------:|:---------------------:|\n",
    "|`s1.__eq__(s2)`    |  ==      | equal                 |\n",
    "|`s1.__lt__(s2)`    |  <       | less than             |\n",
    "|`s1.__le__(s2)`    |  <=      | less than or equal    |\n",
    "|`s1.__gt__(s2)`    |  >       | greater than          |\n",
    "|`s1.__ge__(s2)`    |  >=      | greater than or equal |"
   ],
   "metadata": {}
  },
  {
   "cell_type": "markdown",
   "source": [
    "### Two other special methods: `__repr__()` and `__str__()`\n",
    "- You always have to implement `__repr__()` for your defined classes.\n",
    "- It's a good idea to implement the `__str__()` method for your class. "
   ],
   "metadata": {}
  },
  {
   "cell_type": "code",
   "execution_count": 18,
   "source": [
    "s1 = \"Python is my favorite programming language.\"\n",
    "print(s1)  # equal to calling s1.__str__()"
   ],
   "outputs": [
    {
     "output_type": "execute_result",
     "data": {
      "text/plain": [
       "'Python is my favorite programming language.'"
      ]
     },
     "metadata": {},
     "execution_count": 18
    }
   ],
   "metadata": {}
  },
  {
   "cell_type": "markdown",
   "source": [
    "So, whenever you print the value of an object, Python uses the `__str__()` method of that object to produce a string representation of that object and then the print function shows you that string representation."
   ],
   "metadata": {}
  },
  {
   "cell_type": "code",
   "execution_count": 21,
   "source": [
    "s1.__str__()"
   ],
   "outputs": [
    {
     "output_type": "execute_result",
     "data": {
      "text/plain": [
       "'Python is my favorite programming language.'"
      ]
     },
     "metadata": {},
     "execution_count": 21
    }
   ],
   "metadata": {}
  },
  {
   "cell_type": "markdown",
   "source": [
    "Whenever you write a variable name in an interactive interpreter like Jupyter and press \"Enter\", Python uses the `__repr__()` to produce a readable object representation for you. "
   ],
   "metadata": {}
  },
  {
   "cell_type": "code",
   "execution_count": 19,
   "source": [
    "s1.__repr__()"
   ],
   "outputs": [
    {
     "output_type": "execute_result",
     "data": {
      "text/plain": [
       "\"'Python is my favorite programming language.'\""
      ]
     },
     "metadata": {},
     "execution_count": 19
    }
   ],
   "metadata": {}
  },
  {
   "cell_type": "code",
   "execution_count": 25,
   "source": [
    "import datetime\n",
    "\n",
    "day = datetime.date(2021, 10, 28)"
   ],
   "outputs": [],
   "metadata": {}
  },
  {
   "cell_type": "code",
   "execution_count": 26,
   "source": [
    "print(day)  # here the __str__() method is called"
   ],
   "outputs": [
    {
     "output_type": "stream",
     "name": "stdout",
     "text": [
      "2021-10-28\n"
     ]
    }
   ],
   "metadata": {}
  },
  {
   "cell_type": "code",
   "execution_count": 27,
   "source": [
    "day  # here the __repr__ method is called"
   ],
   "outputs": [
    {
     "output_type": "execute_result",
     "data": {
      "text/plain": [
       "datetime.date(2021, 10, 28)"
      ]
     },
     "metadata": {},
     "execution_count": 27
    }
   ],
   "metadata": {}
  },
  {
   "cell_type": "markdown",
   "source": [
    "- The `__str__()` method produce a readable and easy to understand string representation for the object.\n",
    "- While the `__repr__()` method contains enough data to reproduce and build the object. "
   ],
   "metadata": {}
  },
  {
   "cell_type": "markdown",
   "source": [
    "## Implementing a 2D vector class\n",
    "- We can use a 2D vector to represent the position, the velocity and the acceleration of an object in a 2D environment.\n",
    "- This is a very useful object in simulations and games. However, we usually use a 3D vector in those applications.\n",
    "- We will use this class later in our simulation project."
   ],
   "metadata": {}
  },
  {
   "cell_type": "code",
   "execution_count": 28,
   "source": [
    "class Vector:\n",
    "\n",
    "    def __init__(self, x, y):\n",
    "        self.x = x\n",
    "        self.y = y\n"
   ],
   "outputs": [],
   "metadata": {}
  },
  {
   "cell_type": "code",
   "execution_count": 29,
   "source": [
    "# now we can create a 2D vector object\n",
    "v = Vector(3, 5)"
   ],
   "outputs": [],
   "metadata": {}
  },
  {
   "cell_type": "code",
   "execution_count": 30,
   "source": [
    "print(v)"
   ],
   "outputs": [
    {
     "output_type": "stream",
     "name": "stdout",
     "text": [
      "<__main__.Vector object at 0x7fdab3987a60>\n"
     ]
    }
   ],
   "metadata": {}
  },
  {
   "cell_type": "code",
   "execution_count": 31,
   "source": [
    "v"
   ],
   "outputs": [
    {
     "output_type": "execute_result",
     "data": {
      "text/plain": [
       "<__main__.Vector at 0x7fdab3987a60>"
      ]
     },
     "metadata": {},
     "execution_count": 31
    }
   ],
   "metadata": {}
  },
  {
   "cell_type": "markdown",
   "source": [
    "now, lets implement the `__str__()` and `__repr__()` methods"
   ],
   "metadata": {}
  },
  {
   "cell_type": "code",
   "execution_count": 32,
   "source": [
    "class Vector:\n",
    "\n",
    "    def __init__(self, x, y):\n",
    "        self.x = x\n",
    "        self.y = y\n",
    "\n",
    "    def __str__(self):\n",
    "        return f\"({self.x}, {self.y})\"\n",
    "\n",
    "    def __repr__(self):\n",
    "        return f\"Vector(x={self.x}, y={self.y})\""
   ],
   "outputs": [],
   "metadata": {}
  },
  {
   "cell_type": "code",
   "execution_count": 35,
   "source": [
    "v = Vector(3, 5)\n",
    "print(v)"
   ],
   "outputs": [
    {
     "output_type": "stream",
     "name": "stdout",
     "text": [
      "(3, 5)\n"
     ]
    }
   ],
   "metadata": {}
  },
  {
   "cell_type": "code",
   "execution_count": 36,
   "source": [
    "v"
   ],
   "outputs": [
    {
     "output_type": "execute_result",
     "data": {
      "text/plain": [
       "Vector(x=3, y=5)"
      ]
     },
     "metadata": {},
     "execution_count": 36
    }
   ],
   "metadata": {}
  },
  {
   "cell_type": "code",
   "execution_count": 38,
   "source": [
    "eval(\"Vector(x=10,y=20)\")  # a good test for correct implementation of __repr__ method"
   ],
   "outputs": [
    {
     "output_type": "execute_result",
     "data": {
      "text/plain": [
       "Vector(x=10, y=20)"
      ]
     },
     "metadata": {},
     "execution_count": 38
    }
   ],
   "metadata": {}
  },
  {
   "cell_type": "markdown",
   "source": [
    "### Vector operations\n",
    "- Adding two vectors\n",
    "- Subtracting two vectors\n",
    "- Scaling a vector"
   ],
   "metadata": {}
  },
  {
   "cell_type": "code",
   "execution_count": 1,
   "source": [
    "class Vector:\n",
    "\n",
    "    def __init__(self, x, y):\n",
    "        self.x = x\n",
    "        self.y = y\n",
    "\n",
    "    def __add__(self, other):\n",
    "        return Vector(self.x + other.x, self.y + other.y)\n",
    "\n",
    "    def __sub__(self, other):\n",
    "        return Vector(self.x - other.x, self.y - other.y)\n",
    "\n",
    "    def __mul__(self, other):\n",
    "        return self.x * other.x + self.y * other.y\n",
    "\n",
    "    def __str__(self):\n",
    "        return f\"({self.x}, {self.y})\"\n",
    "\n",
    "    def __repr__(self):\n",
    "        return f\"Vector(x={self.x}, y={self.y})\""
   ],
   "outputs": [],
   "metadata": {}
  },
  {
   "cell_type": "code",
   "execution_count": 2,
   "source": [
    "v1 = Vector(1, 2)\n",
    "v2 = Vector(3, 4)\n",
    "\n",
    "\n",
    "print(f\"v1 + v2 = {v1 + v2}\")\n",
    "print(f\"v1 - v2 = {v1 - v2}\")\n",
    "print(f\"v1 * v2 = {v1 * v2}\")"
   ],
   "outputs": [
    {
     "output_type": "stream",
     "name": "stdout",
     "text": [
      "v1 + v2 = (4, 6)\n",
      "v1 - v2 = (-2, -2)\n",
      "v1 * v2 = 11\n"
     ]
    }
   ],
   "metadata": {}
  },
  {
   "cell_type": "markdown",
   "source": [
    "## Comparing two vectors"
   ],
   "metadata": {}
  },
  {
   "cell_type": "code",
   "execution_count": 3,
   "source": [
    "class Vector:\n",
    "\n",
    "    def __init__(self, x, y):\n",
    "        self.x = x\n",
    "        self.y = y\n",
    "\n",
    "    def __add__(self, other):\n",
    "        return Vector(self.x + other.x, self.y + other.y)\n",
    "\n",
    "    def __sub__(self, other):\n",
    "        return Vector(self.x - other.x, self.y - other.y)\n",
    "\n",
    "    def __mul__(self, other):\n",
    "        return self.x * other.x + self.y * other.y\n",
    "\n",
    "    def __eq__(self, other):\n",
    "        return self.x == other.x and self.y == other.y\n",
    "\n",
    "    def __str__(self):\n",
    "        return f\"({self.x}, {self.y})\"\n",
    "\n",
    "    def __repr__(self):\n",
    "        return f\"Vector(x={self.x}, y={self.y})\""
   ],
   "outputs": [],
   "metadata": {}
  },
  {
   "cell_type": "code",
   "execution_count": 4,
   "source": [
    "print(v1 == v2)"
   ],
   "outputs": [
    {
     "output_type": "stream",
     "name": "stdout",
     "text": [
      "False\n"
     ]
    }
   ],
   "metadata": {}
  },
  {
   "cell_type": "code",
   "execution_count": 5,
   "source": [
    "print (v1 != v2)  # Python is smart"
   ],
   "outputs": [
    {
     "output_type": "stream",
     "name": "stdout",
     "text": [
      "True\n"
     ]
    }
   ],
   "metadata": {}
  },
  {
   "cell_type": "code",
   "execution_count": 46,
   "source": [
    "# print(v1 <= v2)  # error"
   ],
   "outputs": [
    {
     "output_type": "error",
     "ename": "TypeError",
     "evalue": "'<=' not supported between instances of 'Vector' and 'Vector'",
     "traceback": [
      "\u001b[0;31m---------------------------------------------------------------------------\u001b[0m",
      "\u001b[0;31mTypeError\u001b[0m                                 Traceback (most recent call last)",
      "\u001b[0;32m/tmp/ipykernel_129977/1488743938.py\u001b[0m in \u001b[0;36m<module>\u001b[0;34m\u001b[0m\n\u001b[0;32m----> 1\u001b[0;31m \u001b[0mprint\u001b[0m\u001b[0;34m(\u001b[0m\u001b[0mv1\u001b[0m \u001b[0;34m<=\u001b[0m \u001b[0mv2\u001b[0m\u001b[0;34m)\u001b[0m\u001b[0;34m\u001b[0m\u001b[0;34m\u001b[0m\u001b[0m\n\u001b[0m",
      "\u001b[0;31mTypeError\u001b[0m: '<=' not supported between instances of 'Vector' and 'Vector'"
     ]
    }
   ],
   "metadata": {}
  },
  {
   "cell_type": "code",
   "execution_count": 6,
   "source": [
    "import math\n",
    "\n",
    "\n",
    "class Vector:\n",
    "\n",
    "    def __init__(self, x, y):\n",
    "        self.x = x\n",
    "        self.y = y\n",
    "\n",
    "    def __add__(self, other):\n",
    "        return Vector(self.x + other.x, self.y + other.y)\n",
    "\n",
    "    def __sub__(self, other):\n",
    "        return Vector(self.x - other.x, self.y - other.y)\n",
    "\n",
    "    def __mul__(self, other):\n",
    "        return self.x * other.x + self.y * other.y\n",
    "\n",
    "    def __eq__(self, other):\n",
    "        return self.x == other.x and self.y == other.y\n",
    "\n",
    "    def __lt__(self, other):\n",
    "        return self.length() < other.length()\n",
    "\n",
    "    def __le__(self, other):\n",
    "        return self.length() <= other.length()\n",
    "\n",
    "    def __gt__(self, other):\n",
    "        return self.length() > other.length()\n",
    "\n",
    "    def __ge__(self, other):\n",
    "        return self.length() >= other.length()\n",
    "\n",
    "    def length(self):\n",
    "        return math.sqrt(self.x * self.x + self.y * self.y)\n",
    "\n",
    "    def __str__(self):\n",
    "        return f\"({self.x}, {self.y})\"\n",
    "\n",
    "    def __repr__(self):\n",
    "        return f\"Vector(x={self.x}, y={self.y})\""
   ],
   "outputs": [],
   "metadata": {}
  },
  {
   "cell_type": "code",
   "execution_count": 7,
   "source": [
    "v = Vector(3, 4)\n",
    "print(v.length())"
   ],
   "outputs": [
    {
     "output_type": "stream",
     "name": "stdout",
     "text": [
      "5.0\n"
     ]
    }
   ],
   "metadata": {}
  },
  {
   "cell_type": "code",
   "execution_count": 8,
   "source": [
    "v1 = (1, 2)\n",
    "v2 = (3, 4)\n",
    "\n",
    "print(v1 < v2)\n",
    "print(v1 > v2)"
   ],
   "outputs": [
    {
     "output_type": "stream",
     "name": "stdout",
     "text": [
      "True\n",
      "False\n"
     ]
    }
   ],
   "metadata": {}
  },
  {
   "cell_type": "code",
   "execution_count": null,
   "source": [],
   "outputs": [],
   "metadata": {}
  }
 ],
 "metadata": {
  "orig_nbformat": 4,
  "language_info": {
   "name": "python",
   "version": "3.9.7",
   "mimetype": "text/x-python",
   "codemirror_mode": {
    "name": "ipython",
    "version": 3
   },
   "pygments_lexer": "ipython3",
   "nbconvert_exporter": "python",
   "file_extension": ".py"
  },
  "kernelspec": {
   "name": "python3",
   "display_name": "Python 3.9.7 64-bit"
  },
  "interpreter": {
   "hash": "aee8b7b246df8f9039afb4144a1f6fd8d2ca17a180786b69acc140d282b71a49"
  }
 },
 "nbformat": 4,
 "nbformat_minor": 2
}